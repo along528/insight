{
 "cells": [
  {
   "cell_type": "markdown",
   "metadata": {},
   "source": [
    "## Combine NC Traffic and Police BJS datasets"
   ]
  },
  {
   "cell_type": "code",
   "execution_count": null,
   "metadata": {
    "collapsed": true
   },
   "outputs": [],
   "source": [
    "## Python packages - you may have to pip install sqlalchemy, sqlalchemy_utils, and psycopg2.\n",
    "from sqlalchemy import create_engine\n",
    "from sqlalchemy_utils import database_exists, create_database\n",
    "import psycopg2\n",
    "import pandas as pd"
   ]
  },
  {
   "cell_type": "code",
   "execution_count": null,
   "metadata": {
    "collapsed": true
   },
   "outputs": [],
   "source": [
    "dbname_police = 'police_bjs'\n",
    "username = 'along528'\n",
    "pswd = 'password'\n",
    "con_police = None\n",
    "con_police = psycopg2.connect(database = dbname_police, user = username, host='localhost', password=pswd)"
   ]
  },
  {
   "cell_type": "code",
   "execution_count": null,
   "metadata": {
    "collapsed": true
   },
   "outputs": [],
   "source": [
    "dbname_nctraffic = 'traffic_stops_nc'\n",
    "username = 'along528'\n",
    "pswd = 'password'\n",
    "con_nctraffic = None\n",
    "con_nctraffic = psycopg2.connect(database = dbname_nctraffic, user = username, host='localhost', password=pswd)"
   ]
  },
  {
   "cell_type": "code",
   "execution_count": null,
   "metadata": {
    "collapsed": false
   },
   "outputs": [],
   "source": [
    "sql_query = \"\"\"\n",
    "SELECT s.agency_id,s.agency_description,count(s.agency_id) FROM nc_stop s\n",
    "GROUP BY s.agency_id,s.agency_description\n",
    "ORDER BY s.agency_id\n",
    "\"\"\"\n",
    "nctraffic_agencies = pd.read_sql_query(sql_query,con_nctraffic)\n",
    "#make agency description format same as in police bjs dataset\n",
    "nctraffic_agencies['agency_description'] = map(str.upper,nctraffic_agencies['agency_description'])\n",
    "nctraffic_agencies['agency_description'] = map(lambda x: x.replace(' ',''),nctraffic_agencies['agency_description'])\n",
    "nctraffic_agencies['agency_description'] = map(lambda x: x.replace(\"'\",\"\"),nctraffic_agencies['agency_description'])\n",
    "nctraffic_agencies['agency_description'] = map(lambda x: x.replace(\"DEPARTMENT\",\"DEPT\"),nctraffic_agencies['agency_description'])\n",
    "nctraffic_agencies['agency_description'] = map(lambda x: x.replace(\"SHERIFFOFFICE\",\"SHERIFFSOFFICE\"),nctraffic_agencies['agency_description'])\n",
    "nctraffic_agencies['agency_description'] = map(lambda x: x.replace(\"SHERIFFSOFFICE\",\"SHERIFF\"),nctraffic_agencies['agency_description'])\n",
    "nctraffic_agencies"
   ]
  },
  {
   "cell_type": "code",
   "execution_count": null,
   "metadata": {
    "collapsed": false
   },
   "outputs": [],
   "source": [
    "sql_query = \"\"\"\n",
    "SELECT s.\"SURVEYID\",s.agency,s.city,count(s.\"SURVEYID\") FROM police_data_table s\n",
    "WHERE s.state='NC'\n",
    "GROUP BY s.agency,s.city,s.\"SURVEYID\"\n",
    "ORDER BY s.agency;\n",
    "\"\"\"\n",
    "policebjs_nc_agencies = pd.read_sql_query(sql_query,con_police)\n",
    "policebjs_nc_agencies['agency'] = map(lambda x: x.replace(\"'\",\"\"),policebjs_nc_agencies['agency'])\n",
    "policebjs_nc_agencies['agency'] = map(lambda x: x.replace(\"DEPARTMENT\",\"DEPT\"),policebjs_nc_agencies['agency'])\n",
    "policebjs_nc_agencies['agency'] = map(lambda x: x.replace(\"SHERIFFOFFICE\",\"SHERIFFSOFFICE\"),policebjs_nc_agencies['agency'])\n",
    "policebjs_nc_agencies['agency'] = map(lambda x: x.replace(\"SHERIFFSOFFICE\",\"SHERIFF\"),policebjs_nc_agencies['agency'])\n",
    "policebjs_nc_agencies['agency'] = map(lambda x: x.replace(\"SHERIFFS\",\"SHERIFF\"),policebjs_nc_agencies['agency'])\n",
    "policebjs_nc_agencies['agency'] = map(lambda x: x.replace(\"HAVELOCK\",\"HAVELOOK\"),policebjs_nc_agencies['agency'])\n",
    "policebjs_nc_agencies['agency'] = map(lambda x: x.replace(\"NORTHCAROLINASTATEHWYPATROL\",\"NCSTATEHIGHWAYPATROL\"),policebjs_nc_agencies['agency'])\n",
    "policebjs_nc_agencies['agency'] = map(lambda x: x.replace(\"ROWAN\",\"ROWANCOUNTY\"),policebjs_nc_agencies['agency'])\n",
    "policebjs_nc_agencies"
   ]
  },
  {
   "cell_type": "code",
   "execution_count": null,
   "metadata": {
    "collapsed": false
   },
   "outputs": [],
   "source": [
    "agencyid_map_police_to_traffic = {}\n",
    "agencyid_map_traffic_to_police = {}\n",
    "nmatch=0\n",
    "for police_agency in policebjs_nc_agencies['agency']:\n",
    "    match = False\n",
    "    for nctraffic_agency in nctraffic_agencies['agency_description']:\n",
    "        if nctraffic_agency==police_agency:\n",
    "            nmatch+=1\n",
    "            match=True\n",
    "            break\n",
    "    if match: \n",
    "            policeid = int(policebjs_nc_agencies[policebjs_nc_agencies['agency']==police_agency]['SURVEYID'])\n",
    "            nctrafficid = int(nctraffic_agencies[nctraffic_agencies['agency_description']==police_agency]['agency_id'])\n",
    "            agencyid_map_police_to_traffic[policeid] = nctrafficid\n",
    "            agencyid_map_traffic_to_police[nctrafficid] = policeid\n",
    "print \"Number of matched agencies =\",nmatch\n",
    "agencyid_map_traffic_to_police"
   ]
  },
  {
   "cell_type": "code",
   "execution_count": null,
   "metadata": {
    "collapsed": true
   },
   "outputs": [],
   "source": [
    "#save maps to be used elsewhere\n",
    "import pickle\n",
    "pickle.dump( agencyid_map_police_to_traffic, open( \"agencyid_map_police_to_traffic.p\", \"wb\" ) )\n",
    "pickle.dump( agencyid_map_traffic_to_police, open( \"agencyid_map_traffic_to_police.p\", \"wb\" ) )"
   ]
  },
  {
   "cell_type": "code",
   "execution_count": 2,
   "metadata": {
    "collapsed": false
   },
   "outputs": [
    {
     "name": "stdout",
     "output_type": "stream",
     "text": [
      "88\n"
     ]
    }
   ],
   "source": [
    "#or load them from before\n",
    "import pickle\n",
    "agencyid_map_police_to_traffic = pickle.load( open( \"agencyid_map_police_to_traffic.p\", \"rb\" ) )\n",
    "agencyid_map_traffic_to_police = pickle.load( open( \"agencyid_map_traffic_to_police.p\", \"rb\" ) )\n",
    "print len(agencyid_map_traffic_to_police)"
   ]
  },
  {
   "cell_type": "markdown",
   "metadata": {},
   "source": [
    "Now get traffic stops dataframe for just matched police departments"
   ]
  },
  {
   "cell_type": "code",
   "execution_count": null,
   "metadata": {
    "collapsed": false
   },
   "outputs": [],
   "source": [
    "#rather than loading whole dataset I should wait to see if I can develop a query to condense each agency \n",
    "#down to one entry with one or a few versions of the RPSI\n",
    "sql_query = \"\"\"\n",
    "SELECT * FROM nc_stop s\n",
    "WHERE \"\"\"\n",
    "isFirst = True\n",
    "for key in agencyid_map_traffic_to_police:\n",
    "    if isFirst:\n",
    "        isFirst = False\n",
    "    else: \n",
    "        sql_query += \" OR \"\n",
    "    sql_query += \" s.agency_id = %d \\n\" % (key)\n",
    "sql_query+=\";\"\n",
    "nctraffic_stops_matched = pd.read_sql_query(sql_query,con_nctraffic)\n",
    "nctraffic_stops_matched"
   ]
  },
  {
   "cell_type": "code",
   "execution_count": null,
   "metadata": {
    "collapsed": true
   },
   "outputs": [],
   "source": []
  }
 ],
 "metadata": {
  "kernelspec": {
   "display_name": "Python 2",
   "language": "python",
   "name": "python2"
  },
  "language_info": {
   "codemirror_mode": {
    "name": "ipython",
    "version": 2
   },
   "file_extension": ".py",
   "mimetype": "text/x-python",
   "name": "python",
   "nbconvert_exporter": "python",
   "pygments_lexer": "ipython2",
   "version": "2.7.11"
  }
 },
 "nbformat": 4,
 "nbformat_minor": 0
}
