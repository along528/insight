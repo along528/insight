{
 "cells": [
  {
   "cell_type": "code",
   "execution_count": null,
   "metadata": {
    "collapsed": false
   },
   "outputs": [],
   "source": [
    "from glob import glob\n",
    "import sets\n",
    "import datetime\n",
    "from sqlalchemy import create_engine\n",
    "from sqlalchemy_utils import database_exists, create_database\n",
    "import psycopg2\n",
    "import pandas as pd\n",
    "import numpy as np\n",
    "pd.set_option(\"display.max_columns\",100)"
   ]
  },
  {
   "cell_type": "code",
   "execution_count": null,
   "metadata": {
    "collapsed": false
   },
   "outputs": [],
   "source": [
    "dbname = 'combined_profiling'\n",
    "username = 'along528'\n",
    "pswd = 'password'\n",
    "## 'engine' is a connection to a database\n",
    "## Here, we're using postgres, but sqlalchemy can connect to other things too.\n",
    "engine = create_engine('postgresql://%s:%s@localhost/%s'%(username,pswd,dbname))\n",
    "print engine.url"
   ]
  },
  {
   "cell_type": "code",
   "execution_count": null,
   "metadata": {
    "collapsed": true
   },
   "outputs": [],
   "source": [
    "dbname = 'police_bjs'\n",
    "username = 'along528'\n",
    "pswd = 'password'\n",
    "con_survey = psycopg2.connect(database = dbname, user = username, host='localhost', password=pswd)"
   ]
  },
  {
   "cell_type": "code",
   "execution_count": null,
   "metadata": {
    "collapsed": true
   },
   "outputs": [],
   "source": [
    "dbname = 'crime'\n",
    "username = 'along528'\n",
    "pswd = 'password'\n",
    "con_crime = psycopg2.connect(database = dbname, user = username, host='localhost', password=pswd)"
   ]
  },
  {
   "cell_type": "code",
   "execution_count": null,
   "metadata": {
    "collapsed": false
   },
   "outputs": [],
   "source": [
    "survey_df = pd.read_sql('SELECT * FROM police_data_table',con_survey)\n",
    "survey_df.ix[survey_df['city']=='Shelton','agency'] = 'Shelton Police'\n",
    "survey_df.ix[survey_df['city']=='Groton Town','agency'] = 'Groton Town Police'\n",
    "survey_df.ix[survey_df['city']=='Normal','agency'] = 'Normal Town'\n",
    "survey_df.ix[(survey_df['city']=='Wilmington') & (survey_df['state']=='IL'),'agency'] = 'Wilmington'\n",
    "survey_df.ix[survey_df['city']=='Havelock','agency'] = 'Havelock'\n",
    "survey_df.ix[survey_df['city']=='Kankakee','agency'] = 'Kankakee County'\n",
    "\n",
    "survey_df"
   ]
  },
  {
   "cell_type": "code",
   "execution_count": null,
   "metadata": {
    "collapsed": false
   },
   "outputs": [],
   "source": [
    "crime_df = pd.read_sql('SELECT * FROM crimes_traffic_states',con_crime).drop('index',1)\n",
    "crime_df.ix[crime_df['agency']=='Morresville (Wake Co) Police Dept','agency'] = 'Morrisville Police'\n",
    "\n",
    "crime_df"
   ]
  },
  {
   "cell_type": "code",
   "execution_count": null,
   "metadata": {
    "collapsed": false
   },
   "outputs": [],
   "source": [
    "def parse_agency_crime(agency):\n",
    "    \"\"\"\n",
    "    try to return common naming system\n",
    "    \"\"\"\n",
    "    agency = agency.title()\n",
    "    if 'Durham Police' in agency:\n",
    "        return 'Durham Police'\n",
    "    if 'Peoria County' in agency:\n",
    "        return 'Peoria County'\n",
    "    if 'Rockingham County' in agency:\n",
    "        return 'Rockingham County'\n",
    "    if 'Police' in agency:\n",
    "        agency = agency.split('Police').pop(0)\n",
    "    if 'County' in agency:\n",
    "        agency = agency.split('County').pop(0)\n",
    "    if 'Co ' in agency:\n",
    "        agency = agency.split('Co ').pop(0)\n",
    "    if 'Sherif' in agency:\n",
    "        agency = agency.split('Sherif').pop(0)\n",
    "    agency=agency.strip()\n",
    "\n",
    "    return agency\n",
    "    \n",
    "def parse_agency_survey(agency):\n",
    "    \"\"\"\n",
    "    try to return common naming system\n",
    "    \"\"\"\n",
    "    agency = agency.title()\n",
    "    if 'Durham Police' in agency:\n",
    "        return 'Durham Police'\n",
    "    if 'Police' in agency:\n",
    "        agency = agency.split('Police').pop(0)\n",
    "    if 'County' in agency:\n",
    "        agency = agency.split('County').pop(0)\n",
    "    if 'Co ' in agency:\n",
    "        agency = agency.split('Co ').pop(0)\n",
    "    if 'Connect' in agency:\n",
    "        agency = agency.split('Connect').pop(0)\n",
    "    if 'Il ' in agency:\n",
    "        agency = agency.split('Il ').pop(0)\n",
    "    if 'Sherif' in agency:\n",
    "        agency = agency.split('Sherif').pop(0)\n",
    "        \n",
    "    agency = agency.strip()\n",
    "    \n",
    "\n",
    "\n",
    "    return agency"
   ]
  },
  {
   "cell_type": "code",
   "execution_count": null,
   "metadata": {
    "collapsed": false
   },
   "outputs": [],
   "source": [
    "\n",
    "crimemap = {}\n",
    "count = 0\n",
    "crime_to_survey_map = {}\n",
    "survey_to_crime_map = {}\n",
    "nmatched = 0\n",
    "survey_df = survey_df.sort('agency')\n",
    "for survey_index,survey_series in survey_df.iterrows():\n",
    "    survey_name = survey_series['agency']\n",
    "    survey_city = survey_series['city']\n",
    "    survey_state = survey_series['state']\n",
    "    survey_id = survey_series['SURVEYID']\n",
    "    #if 'sherif' in survey_name.lower() or 'county' in survey_name.lower(): continue\n",
    "    if survey_state!='NC' and survey_state!='IL' and survey_state!='CT': continue\n",
    "    if 'state' in survey_name.lower(): continue\n",
    "    #if survey_state!='NC': continue # and survey_state!='IL' and survey_state!='CT': continue\n",
    "    parsed_survey_agency = parse_agency_survey(survey_name)\n",
    "    testdf  = crime_df[crime_df['state']==survey_state]\n",
    "    matched = False\n",
    "    for crime_index,crime_series in testdf.iterrows():\n",
    "        crime_agency = crime_series['agency']\n",
    "        crime_state = crime_series['state']\n",
    "        if crime_state!=survey_state: continue\n",
    "        parsed_crime_agency = parse_agency_crime(crime_agency)\n",
    "        if parsed_crime_agency==parsed_survey_agency:\n",
    "            crime_to_survey_map[crime_index] = survey_id\n",
    "            survey_to_crime_map[survey_id] = crime_index\n",
    "            matched = True\n",
    "            nmatched+=1\n",
    "            break\n",
    "    if   not matched:\n",
    "        print \"survey: %s, %s, %s\" % (survey_name,survey_city,survey_state)\n",
    "    count+=1\n",
    "#print count\n",
    "print \"matched %d out of %d\" % (nmatched,count)"
   ]
  },
  {
   "cell_type": "markdown",
   "metadata": {},
   "source": [
    "A decent number aren't matched as the crime data is only for cities with > 10000"
   ]
  },
  {
   "cell_type": "code",
   "execution_count": null,
   "metadata": {
    "collapsed": true
   },
   "outputs": [],
   "source": [
    "import pickle\n",
    "pickle.dump(crime_to_survey_map,open('crime_to_survey_map.p','wb'))\n",
    "pickle.dump(survey_to_crime_map,open('survey_to_crime_map.p','wb'))"
   ]
  },
  {
   "cell_type": "code",
   "execution_count": null,
   "metadata": {
    "collapsed": false
   },
   "outputs": [],
   "source": [
    "tmpcrime_df = crime_df\n",
    "tmpcrime_df['surveyid'] = -1\n",
    "for crime_index in crime_to_survey_map:\n",
    "    tmpcrime_df.ix[crime_index,'surveyid'] = crime_to_survey_map[crime_index]\n",
    "tmpcrime_df = tmpcrime_df[tmpcrime_df['surveyid']!=-1]\n",
    "tmpcrime_df = tmpcrime_df.drop(['year','agency','state'],1)\n",
    "tmpcrime_df"
   ]
  },
  {
   "cell_type": "code",
   "execution_count": null,
   "metadata": {
    "collapsed": true
   },
   "outputs": [],
   "source": [
    "tmpcrime_df.to_sql('crimes',engine,if_exists='replace')"
   ]
  },
  {
   "cell_type": "code",
   "execution_count": null,
   "metadata": {
    "collapsed": true
   },
   "outputs": [],
   "source": []
  }
 ],
 "metadata": {
  "kernelspec": {
   "display_name": "Python 2",
   "language": "python",
   "name": "python2"
  },
  "language_info": {
   "codemirror_mode": {
    "name": "ipython",
    "version": 2
   },
   "file_extension": ".py",
   "mimetype": "text/x-python",
   "name": "python",
   "nbconvert_exporter": "python",
   "pygments_lexer": "ipython2",
   "version": "2.7.11"
  }
 },
 "nbformat": 4,
 "nbformat_minor": 0
}
