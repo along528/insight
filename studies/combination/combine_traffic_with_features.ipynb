{
 "cells": [
  {
   "cell_type": "markdown",
   "metadata": {},
   "source": [
    "# Produce combined table with features and labels"
   ]
  },
  {
   "cell_type": "code",
   "execution_count": null,
   "metadata": {
    "collapsed": false
   },
   "outputs": [],
   "source": [
    "from glob import glob\n",
    "import sets\n",
    "import datetime\n",
    "from sqlalchemy import create_engine\n",
    "from sqlalchemy_utils import database_exists, create_database\n",
    "import psycopg2\n",
    "import pandas as pd\n",
    "import numpy as np\n",
    "from collections import defaultdict"
   ]
  },
  {
   "cell_type": "code",
   "execution_count": null,
   "metadata": {
    "collapsed": false
   },
   "outputs": [],
   "source": [
    "dbname = 'combined_profiling'\n",
    "username = 'along528'\n",
    "pswd = 'password'\n",
    "## 'engine' is a connection to a database\n",
    "## Here, we're using postgres, but sqlalchemy can connect to other things too.\n",
    "engine = create_engine('postgresql://%s:%s@localhost/%s'%(username,pswd,dbname))\n",
    "print engine.url"
   ]
  },
  {
   "cell_type": "code",
   "execution_count": null,
   "metadata": {
    "collapsed": true
   },
   "outputs": [],
   "source": [
    "dbname = 'combined_profiling'\n",
    "username = 'along528'\n",
    "pswd = 'password'\n",
    "con_comb = None\n",
    "con_comb = psycopg2.connect(database = dbname, user = username, host='localhost', password=pswd)"
   ]
  },
  {
   "cell_type": "code",
   "execution_count": null,
   "metadata": {
    "collapsed": false
   },
   "outputs": [],
   "source": [
    "query=\"\"\"\n",
    "SELECT traffic.*, census.*,survey.*\n",
    "FROM combined_traffic_stops_integrate_year_surveyid traffic\n",
    "JOIN census_population_sum census ON traffic.surveyid = census.surveyid\n",
    "JOIN police_surveys survey ON census.surveyid = survey.surveyid;\n",
    "\"\"\"\n",
    "joined_db = pd.read_sql(query,con_comb)\n",
    "#get rid of duplicate surveyid columns, but leave one\n",
    "surveyid_series = joined_db['surveyid'].ix[:,0]\n",
    "joined_db = joined_db.drop('surveyid',axis=1)\n",
    "joined_db['surveyid'] = surveyid_series\n",
    "#get rid of duplicate state columns, but leave one\n",
    "state_series = joined_db['state'].ix[:,0]\n",
    "joined_db = joined_db.drop('state',axis=1)\n",
    "joined_db['state'] = state_series\n",
    "#drop index\n",
    "joined_db = joined_db.drop('index',axis=1)\n",
    "#grab string features we want\n",
    "string_features = joined_db[['surveyid','agency','city','state','zipcode']]\n",
    "#drop those plust some we don't want\n",
    "joined_db = joined_db.drop(['agencyname','state',\n",
    "                             'resptype','formtype','city','agency',\n",
    "                             'interpdesc','othpatdesc','othcpdesc',\n",
    "                             'terrprepdesc','secgundesc','othimpdesc',\n",
    "                             'othchemdesc','othactdesc','othaccdesc','ori',\n",
    "                             'surveyid','zipcode'],axis=1)\n",
    "#convert everything else to numeric features\n",
    "joined_db = joined_db.apply(lambda x: pd.to_numeric(x, errors='ignore'))\n",
    "#then put the numeric and desired string features back\n",
    "joined_db = pd.concat([string_features,joined_db],axis=1)\n",
    "#prettify the agency name\n",
    "joined_db['agency'] = joined_db['agency'].map(str.title)\n",
    "joined_db"
   ]
  },
  {
   "cell_type": "code",
   "execution_count": null,
   "metadata": {
    "collapsed": false
   },
   "outputs": [],
   "source": [
    "def clean_zipcode(zipcode):\n",
    "    zipcode = str(int(zipcode))\n",
    "    #should be five digits\n",
    "    length = len(zipcode)\n",
    "    missing = 5 - length\n",
    "    zipcode = missing*\"0\" + zipcode\n",
    "    return zipcode\n",
    "joined_db['zipcode'] = joined_db['zipcode'].map(clean_zipcode)    "
   ]
  },
  {
   "cell_type": "markdown",
   "metadata": {},
   "source": [
    "It seems there are a few duplicate departments for some reason. Just drop them for now"
   ]
  },
  {
   "cell_type": "code",
   "execution_count": null,
   "metadata": {
    "collapsed": false
   },
   "outputs": [],
   "source": [
    "duplicates = []\n",
    "for agency in joined_db['agency'].unique():\n",
    "    departments = joined_db[joined_db['agency']==agency]\n",
    "    if len(departments)>1:\n",
    "        print agency,len(departments)\n",
    "        duplicates.append(agency)"
   ]
  },
  {
   "cell_type": "code",
   "execution_count": null,
   "metadata": {
    "collapsed": false
   },
   "outputs": [],
   "source": [
    "joined_db = joined_db[joined_db['agency'].isin(duplicates)==False]\n",
    "joined_db"
   ]
  },
  {
   "cell_type": "code",
   "execution_count": null,
   "metadata": {
    "collapsed": false
   },
   "outputs": [],
   "source": [
    "joined_db.to_sql('traffic_joined_with_features',engine,if_exists='replace')"
   ]
  },
  {
   "cell_type": "markdown",
   "metadata": {},
   "source": [
    "## Also create joined dataset not including traffic"
   ]
  },
  {
   "cell_type": "code",
   "execution_count": null,
   "metadata": {
    "collapsed": false
   },
   "outputs": [],
   "source": [
    "query=\"\"\"\n",
    "SELECT survey.*,census.*\n",
    "FROM census_population_sum census\n",
    "JOIN police_surveys survey ON census.surveyid = survey.surveyid;\n",
    "\"\"\"\n",
    "joined_no_traffic_db = pd.read_sql(query,con_comb)\n",
    "#get rid of duplicate surveyid columns, but leave one\n",
    "surveyid_series = joined_no_traffic_db['surveyid'].ix[:,0]\n",
    "joined_no_traffic_db = joined_no_traffic_db.drop('surveyid',axis=1)\n",
    "joined_no_traffic_db['surveyid'] = surveyid_series\n",
    "\n",
    "#drop index\n",
    "joined_no_traffic_db = joined_no_traffic_db.drop('index',axis=1)\n",
    "#grab string features we want\n",
    "string_features = joined_no_traffic_db[['surveyid','agency','city','state','zipcode']]\n",
    "#drop those plust some we don't want\n",
    "joined_no_traffic_db = joined_no_traffic_db.drop(['state',\n",
    "                             'resptype','formtype','city','agency',\n",
    "                             'interpdesc','othpatdesc','othcpdesc',\n",
    "                             'terrprepdesc','secgundesc','othimpdesc',\n",
    "                             'othchemdesc','othactdesc','othaccdesc','ori',\n",
    "                             'surveyid','zipcode'],axis=1)\n",
    "#convert everything else to numeric features\n",
    "joined_no_traffic_db = joined_no_traffic_db.apply(lambda x: pd.to_numeric(x, errors='ignore'))\n",
    "#then put the numeric and desired string features back\n",
    "joined_no_traffic_db = pd.concat([string_features,joined_no_traffic_db],axis=1)\n",
    "#prettify the agency name\n",
    "joined_no_traffic_db['agency'] = joined_no_traffic_db['agency'].map(str.title)\n",
    "joined_no_traffic_db"
   ]
  },
  {
   "cell_type": "code",
   "execution_count": null,
   "metadata": {
    "collapsed": true
   },
   "outputs": [],
   "source": [
    "joined_no_traffic_db.to_sql('all_pd_joined_features',engine,if_exists='replace')"
   ]
  },
  {
   "cell_type": "code",
   "execution_count": null,
   "metadata": {
    "collapsed": false
   },
   "outputs": [],
   "source": [
    "'999999'  in joined_no_traffic_db['chiefmin'].values\n"
   ]
  },
  {
   "cell_type": "code",
   "execution_count": null,
   "metadata": {
    "collapsed": true
   },
   "outputs": [],
   "source": []
  }
 ],
 "metadata": {
  "kernelspec": {
   "display_name": "Python 2",
   "language": "python",
   "name": "python2"
  },
  "language_info": {
   "codemirror_mode": {
    "name": "ipython",
    "version": 2
   },
   "file_extension": ".py",
   "mimetype": "text/x-python",
   "name": "python",
   "nbconvert_exporter": "python",
   "pygments_lexer": "ipython2",
   "version": "2.7.11"
  }
 },
 "nbformat": 4,
 "nbformat_minor": 0
}
