{
 "cells": [
  {
   "cell_type": "markdown",
   "metadata": {},
   "source": [
    "## NC Traffic Stop Data\n",
    "https://opendatapolicingnc.com/"
   ]
  },
  {
   "cell_type": "code",
   "execution_count": 1,
   "metadata": {
    "collapsed": true
   },
   "outputs": [],
   "source": [
    "## Python packages - you may have to pip install sqlalchemy, sqlalchemy_utils, and psycopg2.\n",
    "from sqlalchemy import create_engine\n",
    "from sqlalchemy_utils import database_exists, create_database\n",
    "import psycopg2\n",
    "import pandas as pd"
   ]
  },
  {
   "cell_type": "code",
   "execution_count": 2,
   "metadata": {
    "collapsed": false
   },
   "outputs": [],
   "source": [
    "dbname = 'traffic_stops_nc'\n",
    "username = 'along528'\n",
    "pswd = 'password'\n",
    "con = None\n",
    "con = psycopg2.connect(database = dbname, user = username, host='localhost', password=pswd)"
   ]
  },
  {
   "cell_type": "markdown",
   "metadata": {},
   "source": [
    "# Stops by all races and ethnicities by year"
   ]
  },
  {
   "cell_type": "code",
   "execution_count": null,
   "metadata": {
    "collapsed": false
   },
   "outputs": [],
   "source": [
    "sql_query = \"\"\"\n",
    "SELECT count(person_id),\n",
    "       p.race,\n",
    "       extract(YEAR FROM s.date) AS year\n",
    "FROM nc_person p\n",
    "JOIN nc_stop s ON p.stop_id = s.stop_id\n",
    "WHERE p.type='D'\n",
    "  AND s.agency_id = 78\n",
    "GROUP BY p.race,\n",
    "         year\n",
    "ORDER BY year ASC, p.race DESC;\n",
    "\"\"\"\n",
    "stops = pd.read_sql_query(sql_query,con)\n",
    "stops"
   ]
  },
  {
   "cell_type": "markdown",
   "metadata": {},
   "source": [
    "# Likelihood-of-search by stop-reason"
   ]
  },
  {
   "cell_type": "code",
   "execution_count": null,
   "metadata": {
    "collapsed": false
   },
   "outputs": [],
   "source": [
    "sql_query = \"\"\"\n",
    "SELECT count(se.person_id),\n",
    "       p.race,\n",
    "       s.purpose,\n",
    "       extract(YEAR FROM s.date) AS year\n",
    "FROM  nc_person p\n",
    "JOIN nc_stop s ON p.stop_id = s.stop_id\n",
    "JOIN nc_search se ON s.stop_id = se.stop_id\n",
    "WHERE p.type='D'\n",
    "  AND s.agency_id = 78\n",
    "GROUP BY p.race,\n",
    "         s.purpose,\n",
    "         year\n",
    "ORDER BY year ASC,\n",
    "         s.purpose ASC,\n",
    "         p.race DESC;\n",
    "\"\"\"\n",
    "search = pd.read_sql_query(sql_query,con)\n",
    "search"
   ]
  },
  {
   "cell_type": "markdown",
   "metadata": {},
   "source": [
    "# Use-of-force"
   ]
  },
  {
   "cell_type": "code",
   "execution_count": null,
   "metadata": {
    "collapsed": false
   },
   "outputs": [],
   "source": [
    "sql_query=\"\"\"\n",
    "SELECT count(se.person_id),\n",
    "       p.race,\n",
    "       extract(YEAR FROM s.date) AS year\n",
    "FROM nc_person p\n",
    "JOIN nc_stop s ON p.stop_id = s.stop_id\n",
    "JOIN nc_search se ON s.stop_id = se.stop_id\n",
    "WHERE p.type='D'\n",
    "  AND s.agency_id = 78\n",
    "  AND s.engage_force = 't'\n",
    "GROUP BY p.race,\n",
    "         year\n",
    "ORDER BY p.race DESC,\n",
    "         year ASC;\n",
    "\"\"\"\n",
    "force = pd.read_sql_query(sql_query,con)\n",
    "force"
   ]
  },
  {
   "cell_type": "markdown",
   "metadata": {},
   "source": [
    "# Search rate"
   ]
  },
  {
   "cell_type": "code",
   "execution_count": null,
   "metadata": {
    "collapsed": false
   },
   "outputs": [],
   "source": [
    "sql_query=\"\"\"\n",
    "SELECT count(se.person_id),\n",
    "       p.race,\n",
    "       extract(YEAR FROM s.date) AS year\n",
    "FROM nc_person p\n",
    "JOIN nc_stop s ON p.stop_id = s.stop_id\n",
    "JOIN nc_search se ON s.stop_id = se.stop_id\n",
    "WHERE p.type='D'\n",
    "  AND s.agency_id = 78\n",
    "GROUP BY p.race,\n",
    "         year\n",
    "ORDER BY year ASC,\n",
    "         p.race DESC;\n",
    "\"\"\"\n",
    "search_rate = pd.read_sql_query(sql_query,con)\n",
    "search_rate"
   ]
  },
  {
   "cell_type": "markdown",
   "metadata": {},
   "source": [
    "# Contraband Hit Rate"
   ]
  },
  {
   "cell_type": "code",
   "execution_count": null,
   "metadata": {
    "collapsed": false
   },
   "outputs": [],
   "source": [
    "sql_query=\"\"\"\n",
    "SELECT count(c.person_id),\n",
    "       p.race,\n",
    "       extract(YEAR FROM s.date) AS year\n",
    "FROM nc_person p\n",
    "JOIN nc_stop s ON p.stop_id = s.stop_id\n",
    "JOIN nc_search se ON s.stop_id = se.stop_id\n",
    "JOIN nc_contraband c ON se.search_id = c.search_id\n",
    "WHERE p.type='D'\n",
    "  AND s.agency_id = 78\n",
    "GROUP BY p.race,\n",
    "         year\n",
    "ORDER BY year ASC,\n",
    "         p.race DESC;\n",
    "\"\"\"\n",
    "hit_rate = pd.read_sql_query(sql_query,con)\n",
    "hit_rate"
   ]
  },
  {
   "cell_type": "code",
   "execution_count": null,
   "metadata": {
    "collapsed": true
   },
   "outputs": [],
   "source": [
    "# The usual preamble\n",
    "%matplotlib inline\n",
    "#%pylab inline\n",
    "import matplotlib.pyplot as plt\n",
    "import numpy as np\n",
    "\n",
    "# Make the graphs a bit prettier, and bigger\n",
    "pd.set_option('display.mpl_style', 'default')\n",
    "\n",
    "# This is necessary to show lots of columns in pandas 0.12. \n",
    "# Not necessary in pandas 0.13.\n",
    "pd.set_option('display.width', 5000) \n",
    "pd.set_option('display.max_columns', 60)\n",
    "pd.set_option('display.max_rows', 20)\n",
    "\n",
    "plt.rcParams['figure.figsize'] = (15, 5)"
   ]
  },
  {
   "cell_type": "code",
   "execution_count": null,
   "metadata": {
    "collapsed": false
   },
   "outputs": [],
   "source": [
    "stops_black = stops[stops['race']=='B']\\\n",
    "              .set_index('year').drop(['race'],axis=1).plot(kind='Bar')\n"
   ]
  },
  {
   "cell_type": "markdown",
   "metadata": {},
   "source": [
    "# General Stops data"
   ]
  },
  {
   "cell_type": "code",
   "execution_count": null,
   "metadata": {
    "collapsed": false
   },
   "outputs": [],
   "source": [
    "sql_query = \"\"\"\n",
    "SELECT count(s.stop_city),s.stop_city,s.agency_description,s.agency_id FROM nc_stop s\n",
    "WHERE s.agency_id = 78\n",
    "GROUP BY s.agency_id,s.agency_description,s.stop_city\n",
    "\"\"\"\n",
    "stops_gen = pd.read_sql_query(sql_query,con)\n",
    "stops_gen"
   ]
  },
  {
   "cell_type": "code",
   "execution_count": null,
   "metadata": {
    "collapsed": false
   },
   "outputs": [],
   "source": []
  },
  {
   "cell_type": "code",
   "execution_count": null,
   "metadata": {
    "collapsed": true
   },
   "outputs": [],
   "source": []
  }
 ],
 "metadata": {
  "kernelspec": {
   "display_name": "Python 2",
   "language": "python",
   "name": "python2"
  },
  "language_info": {
   "codemirror_mode": {
    "name": "ipython",
    "version": 2
   },
   "file_extension": ".py",
   "mimetype": "text/x-python",
   "name": "python",
   "nbconvert_exporter": "python",
   "pygments_lexer": "ipython2",
   "version": "2.7.11"
  }
 },
 "nbformat": 4,
 "nbformat_minor": 0
}
