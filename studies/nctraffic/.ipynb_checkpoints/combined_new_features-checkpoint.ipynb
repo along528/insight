{
 "cells": [
  {
   "cell_type": "markdown",
   "metadata": {},
   "source": [
    "## Creating new features for nctraffic"
   ]
  },
  {
   "cell_type": "code",
   "execution_count": null,
   "metadata": {
    "collapsed": true
   },
   "outputs": [],
   "source": [
    "## Python packages - you may have to pip install sqlalchemy, sqlalchemy_utils, and psycopg2.\n",
    "from sqlalchemy import create_engine\n",
    "from sqlalchemy_utils import database_exists, create_database\n",
    "import psycopg2\n",
    "import pandas as pd"
   ]
  },
  {
   "cell_type": "markdown",
   "metadata": {},
   "source": [
    "Load original traffic database"
   ]
  },
  {
   "cell_type": "code",
   "execution_count": null,
   "metadata": {
    "collapsed": true
   },
   "outputs": [],
   "source": [
    "dbname = 'traffic_stops_nc'\n",
    "username = 'along528'\n",
    "pswd = 'password'\n",
    "con = None\n",
    "con = psycopg2.connect(database = dbname, user = username, host='localhost', password=pswd)"
   ]
  },
  {
   "cell_type": "markdown",
   "metadata": {},
   "source": [
    "And Load police dataset"
   ]
  },
  {
   "cell_type": "code",
   "execution_count": null,
   "metadata": {
    "collapsed": true
   },
   "outputs": [],
   "source": [
    "dbname = 'police_bjs'\n",
    "username = 'along528'\n",
    "pswd = 'password'\n",
    "police_con = None\n",
    "police_con = psycopg2.connect(database = dbname, user = username, host='localhost', password=pswd)"
   ]
  },
  {
   "cell_type": "markdown",
   "metadata": {},
   "source": [
    "And create new database for adding features"
   ]
  },
  {
   "cell_type": "code",
   "execution_count": null,
   "metadata": {
    "collapsed": false
   },
   "outputs": [],
   "source": [
    "dbname = 'traffic_police_combined'\n",
    "username = 'along528'\n",
    "pswd = 'password'\n",
    "## 'engine' is a connection to a database\n",
    "## Here, we're using postgres, but sqlalchemy can connect to other things too.\n",
    "engine = create_engine('postgresql://%s:%s@localhost/%s'%(username,pswd,dbname))\n",
    "print engine.url"
   ]
  },
  {
   "cell_type": "code",
   "execution_count": null,
   "metadata": {
    "collapsed": false
   },
   "outputs": [],
   "source": [
    "## create a database (if it doesn't exist)\n",
    "if not database_exists(engine.url):\n",
    "    create_database(engine.url)\n",
    "print(database_exists(engine.url))"
   ]
  },
  {
   "cell_type": "markdown",
   "metadata": {},
   "source": [
    "# Tools for building features\n",
    "We want features that are grouped by matched agency and year. Where each feature is split by race. And we include a total."
   ]
  },
  {
   "cell_type": "code",
   "execution_count": null,
   "metadata": {
    "collapsed": false
   },
   "outputs": [],
   "source": [
    "races = ['B','W','A','I','U']\n",
    "race_descriptive = ['black','white','asian','native_american','other']\n",
    "import pickle\n",
    "agencyid_map_police_to_traffic = pickle.load( open( \"../nctraffic_police_combined/agencyid_map_police_to_traffic.p\", \"rb\" ) )\n",
    "agencyid_map_traffic_to_police = pickle.load( open( \"../nctraffic_police_combined/agencyid_map_traffic_to_police.p\", \"rb\" ) )\n",
    "def build_features_by_race(query,tag,max_agencies=-1):\n",
    "    n_agencies = 0\n",
    "    frame = pd.DataFrame()\n",
    "    frames = []\n",
    "    for agency_id in agencyid_map_traffic_to_police:\n",
    "        counts_by_race={}\n",
    "        for race,desc in zip(races,race_descriptive):\n",
    "            query_tmp = query.replace(\"<AGENCY_ID>\",str(agency_id))\n",
    "            query_tmp = query_tmp.replace(\"<RACE>\",race)\n",
    "            counts_by_race[tag+\"_\"+desc]=pd.read_sql_query(query_tmp,con).set_index('year')['count']\n",
    "        frame_agency = pd.DataFrame(counts_by_race)\n",
    "        frame_agency['agency_id'] = agency_id\n",
    "        frames.append(frame_agency)\n",
    "        n_agencies+=1\n",
    "        if max_agencies>0 and n_agencies>=max_agencies: break\n",
    "    frame = pd.concat(frames)\n",
    "    frame = frame.fillna(0)\n",
    "    frame[tag+'_total'] = frame.sum(axis=1)\n",
    "    frame = frame.reset_index()\n",
    "    return frame"
   ]
  },
  {
   "cell_type": "markdown",
   "metadata": {},
   "source": [
    "# Stops by race\n",
    "First add one feature for the number of stops by race per (matched) agency per year"
   ]
  },
  {
   "cell_type": "code",
   "execution_count": null,
   "metadata": {
    "collapsed": false
   },
   "outputs": [],
   "source": [
    "tag = \"stops\"\n",
    "sql_query = \"\"\"\n",
    "            SELECT count(person_id),\n",
    "               extract(YEAR FROM s.date) AS year\n",
    "            FROM nc_person p\n",
    "            JOIN nc_stop s ON p.stop_id = s.stop_id\n",
    "            WHERE p.type='D'\n",
    "              AND s.agency_id = <AGENCY_ID>\n",
    "              AND p.race = '<RACE>'\n",
    "            GROUP BY p.race,\n",
    "                     year\n",
    "            ORDER BY year ASC, p.race DESC;\n",
    "            \"\"\"\n",
    "frame = build_features_by_race(sql_query,tag)\n",
    "frame.to_sql(tag+'_by_race', engine, if_exists='replace')\n",
    "frame"
   ]
  },
  {
   "cell_type": "markdown",
   "metadata": {},
   "source": [
    "# Searches by race\n",
    "First add one feature for the number of searches by race per (matched) agency per year"
   ]
  },
  {
   "cell_type": "code",
   "execution_count": null,
   "metadata": {
    "collapsed": false
   },
   "outputs": [],
   "source": [
    "tag = \"searches\"\n",
    "#if it appears in the searches database then it is a search\n",
    "sql_query = \"\"\"\n",
    "SELECT count(se.person_id),\n",
    "       extract(YEAR FROM s.date) AS year\n",
    "FROM  nc_person p\n",
    "JOIN nc_stop s ON p.stop_id = s.stop_id\n",
    "JOIN nc_search se ON s.stop_id = se.stop_id\n",
    "WHERE p.type='D'\n",
    "  AND s.agency_id = <AGENCY_ID>\n",
    "  AND p.race = '<RACE>'\n",
    "GROUP BY p.race,\n",
    "         year\n",
    "ORDER BY year ASC,\n",
    "         p.race DESC;\n",
    "\"\"\"\n",
    "frame = build_features_by_race(sql_query,tag)\n",
    "frame.to_sql(tag+'_by_race', engine, if_exists='replace')\n",
    "frame"
   ]
  },
  {
   "cell_type": "markdown",
   "metadata": {},
   "source": [
    "# Use of force by race\n",
    "First add one feature for the number of uses of force by race per (matched) agency per year"
   ]
  },
  {
   "cell_type": "code",
   "execution_count": null,
   "metadata": {
    "collapsed": false
   },
   "outputs": [],
   "source": [
    "tag = \"force\"\n",
    "#if it appears in the searches database then it is a search\n",
    "sql_query = \"\"\"\n",
    "SELECT count(se.person_id),\n",
    "       extract(YEAR FROM s.date) AS year\n",
    "FROM  nc_person p\n",
    "JOIN nc_stop s ON p.stop_id = s.stop_id\n",
    "JOIN nc_search se ON s.stop_id = se.stop_id\n",
    "WHERE p.type='D'\n",
    "  AND s.agency_id = <AGENCY_ID>\n",
    "  AND p.race = '<RACE>'\n",
    "  AND s.engage_force = 't'\n",
    "GROUP BY p.race,\n",
    "         year\n",
    "ORDER BY year ASC,\n",
    "         p.race DESC;\n",
    "\"\"\"\n",
    "frame = build_features_by_race(sql_query,tag)\n",
    "frame.to_sql(tag+'_by_race', engine, if_exists='replace')\n",
    "frame"
   ]
  },
  {
   "cell_type": "markdown",
   "metadata": {},
   "source": [
    "# Contraband hits by race\n",
    "First add one feature for the number of hits by race per (matched) agency per year"
   ]
  },
  {
   "cell_type": "code",
   "execution_count": null,
   "metadata": {
    "collapsed": false
   },
   "outputs": [],
   "source": [
    "tag = \"hits\"\n",
    "#if it appears in the contraband database then it is a search\n",
    "sql_query = \"\"\"\n",
    "SELECT count(c.person_id),\n",
    "       extract(YEAR FROM s.date) AS year\n",
    "FROM  nc_person p\n",
    "JOIN nc_stop s ON p.stop_id = s.stop_id\n",
    "JOIN nc_search se ON s.stop_id = se.stop_id\n",
    "JOIN nc_contraband c ON se.search_id = c.search_id\n",
    "WHERE p.type='D'\n",
    "  AND s.agency_id = <AGENCY_ID>\n",
    "  AND p.race = '<RACE>'\n",
    "GROUP BY p.race,\n",
    "         year\n",
    "ORDER BY year ASC,\n",
    "         p.race DESC;\n",
    "\"\"\"\n",
    "frame = build_features_by_race(sql_query,tag)\n",
    "frame.to_sql(tag+'_by_race', engine, if_exists='replace')\n",
    "frame"
   ]
  },
  {
   "cell_type": "markdown",
   "metadata": {
    "collapsed": true
   },
   "source": [
    "# Load in tables after having created them"
   ]
  },
  {
   "cell_type": "code",
   "execution_count": null,
   "metadata": {
    "collapsed": false
   },
   "outputs": [],
   "source": [
    "dbname = 'traffic_police_combined'\n",
    "username = 'along528'\n",
    "pswd = 'password'\n",
    "con = None\n",
    "con = psycopg2.connect(database = dbname, user = username, host='localhost', password=pswd)"
   ]
  },
  {
   "cell_type": "code",
   "execution_count": null,
   "metadata": {
    "collapsed": false
   },
   "outputs": [],
   "source": [
    "frames_new = {}\n",
    "for tag in [\"stops\",\"hits\",\"searches\",\"force\"]: \n",
    "    sql_query = \"SELECT * FROM %s_by_race;\" % (tag)\n",
    "    frames_new[tag] = pd.read_sql_query(sql_query,con)"
   ]
  },
  {
   "cell_type": "markdown",
   "metadata": {},
   "source": [
    "# Build ratios of features"
   ]
  },
  {
   "cell_type": "markdown",
   "metadata": {},
   "source": [
    "Note that hits is a low stat number"
   ]
  },
  {
   "cell_type": "code",
   "execution_count": null,
   "metadata": {
    "collapsed": false
   },
   "outputs": [],
   "source": [
    "#if it appears in the searches database then it is a search\n",
    "sql_query = \"\"\"\n",
    "SELECT s.agency_id,s.year,\n",
    "       h.hits_black/nullif(s.stops_black,0) AS \"hits_over_stops_black\",\n",
    "       h.hits_white/nullif(s.stops_white,0) AS \"hits_over_stops_white\",\n",
    "       h.hits_asian/nullif(s.stops_asian,0) AS \"hits_over_stops_asian\",\n",
    "       h.hits_native_american/nullif(s.stops_native_american,0) AS \"hits_over_stops_native_american\",\n",
    "       h.hits_other/nullif(s.stops_other,0) AS \"hits_over_stops_other\",\n",
    "       h.hits_total/nullif(s.stops_total,0) AS \"hits_over_stops_total\"\n",
    "FROM stops_by_race s \n",
    "JOIN hits_by_race h ON s.agency_id = h.agency_id AND s.year = h.year;\n",
    "\"\"\"\n",
    "hits_over_stops = pd.read_sql_query(sql_query,con)\n",
    "hits_over_stops = hits_over_stops.fillna(0)\n",
    "hits_over_stops['hits_over_stops_black_over_white'] = \\\n",
    "                            hits_over_stops['hits_over_stops_black'].\\\n",
    "                            divide(hits_over_stops['hits_over_stops_white'],axis='index')\n",
    "hits_over_stops.to_sql('hits_over_stops', engine, if_exists='replace')\n",
    "hits_over_stops"
   ]
  },
  {
   "cell_type": "code",
   "execution_count": null,
   "metadata": {
    "collapsed": false
   },
   "outputs": [],
   "source": [
    "#if it appears in the searches database then it is a search\n",
    "sql_query = \"\"\"\n",
    "SELECT s.agency_id,s.year,\n",
    "       h.hits_black/nullif(s.searches_black,0) AS \"hits_over_searches_black\",\n",
    "       h.hits_white/nullif(s.searches_white,0) AS \"hits_over_searches_white\",\n",
    "       h.hits_asian/nullif(s.searches_asian,0) AS \"hits_over_searches_asian\",\n",
    "       h.hits_native_american/nullif(s.searches_native_american,0) AS \"hits_over_searches_native_american\",\n",
    "       h.hits_other/nullif(s.searches_other,0) AS \"hits_over_searches_other\",\n",
    "       h.hits_total/nullif(s.searches_total,0) AS \"hits_over_searches_total\"\n",
    "FROM searches_by_race s \n",
    "JOIN hits_by_race h ON s.agency_id = h.agency_id AND s.year = h.year;\n",
    "\"\"\"\n",
    "hits_over_searches = pd.read_sql_query(sql_query,con)\n",
    "hits_over_searches = hits_over_searches.fillna(0)\n",
    "hits_over_searches['hits_over_searches_black_over_white'] = \\\n",
    "                            hits_over_searches['hits_over_searches_black'].\\\n",
    "                            divide(hits_over_searches['hits_over_searches_white'],axis='index')\n",
    "hits_over_searches.to_sql('hits_over_searches', engine, if_exists='replace')\n",
    "hits_over_searches\n"
   ]
  },
  {
   "cell_type": "code",
   "execution_count": null,
   "metadata": {
    "collapsed": false
   },
   "outputs": [],
   "source": [
    "\n",
    "#if it appears in the searches database then it is a search\n",
    "sql_query = \"\"\"\n",
    "SELECT se.agency_id,se.year,\n",
    "       se.searches_black / nullif(s.stops_black,0) AS \"searches_over_stops_black\",\n",
    "       se.searches_white / nullif(s.stops_white,0) AS \"searches_over_stops_white\",\n",
    "       se.searches_asian / nullif(s.stops_asian,0) AS \"searches_over_stops_asian\",\n",
    "       se.searches_native_american / nullif(s.stops_native_american,0) AS \"searches_over_stops_native_american\",\n",
    "       se.searches_other / nullif(s.stops_other,0) AS \"searches_over_stops_other\",\n",
    "       se.searches_total / nullif(s.stops_total,0) AS \"searches_over_stops_total\"\n",
    "FROM searches_by_race se\n",
    "JOIN stops_by_race s ON se.agency_id = s.agency_id AND se.year = s.year;\n",
    "\"\"\"\n",
    "searches_over_stops = pd.read_sql_query(sql_query,con)\n",
    "searches_over_stops = searches_over_stops.fillna(0)\n",
    "searches_over_stops['searches_over_stops_black_over_white'] = \\\n",
    "                            searches_over_stops['searches_over_stops_black'].\\\n",
    "                            divide(searches_over_stops['searches_over_stops_white'],axis='index')\n",
    "searches_over_stops.to_sql('searches_over_stops', engine, if_exists='replace')\n",
    "searches_over_stops\n"
   ]
  },
  {
   "cell_type": "code",
   "execution_count": null,
   "metadata": {
    "collapsed": false
   },
   "outputs": [],
   "source": [
    "searches_over_stops[searches_over_stops['agency_id']==2]"
   ]
  },
  {
   "cell_type": "markdown",
   "metadata": {},
   "source": [
    "# New Police BJS table for just matched departments"
   ]
  },
  {
   "cell_type": "code",
   "execution_count": null,
   "metadata": {
    "collapsed": false
   },
   "outputs": [],
   "source": [
    "sql_query='''\n",
    "SELECT *\n",
    "FROM police_data_table p\n",
    "WHERE p.state='NC';\n",
    "'''       \n",
    "nc_police = pd.read_sql_query(sql_query,police_con)\n",
    "#only keep those that overlap with the previous\n",
    "nc_police = nc_police[nc_police['SURVEYID'].isin(agencyid_map_police_to_traffic.keys())]\n",
    "#use the index from the traffic dataset for the training, but keep the SURVEYID\n",
    "nc_police['agency_id'] = nc_police['SURVEYID'].map(agencyid_map_police_to_traffic)\n",
    "nc_police.to_sql('nc_police_survey', engine, if_exists='replace')\n",
    "nc_police"
   ]
  },
  {
   "cell_type": "markdown",
   "metadata": {},
   "source": [
    "# Join traffic and police survey data\n",
    "Create a table that is split by agency id and year, has all survey features and adds the rpsi for training. The RPSI is defined as (searches_black / stops_black )/(searches_white / stops_white)"
   ]
  },
  {
   "cell_type": "code",
   "execution_count": null,
   "metadata": {
    "collapsed": false
   },
   "outputs": [],
   "source": [
    "sql_query = \"\"\"\n",
    "SELECT survey.city,\n",
    "survey.state,\n",
    "survey.zipcode,\n",
    "survey.population,\n",
    "survey.agency,\n",
    "survey.swnftemp,\n",
    "survey.ftgangoff,\n",
    "survey.ftdrugoff,\n",
    "survey.ftterroff,\n",
    "survey.numcpo,\n",
    "survey.drivhis,\n",
    "survey.cultdiv,\n",
    "survey.white,\n",
    "survey.black,\n",
    "survey.hispanic,\n",
    "survey.asian,\n",
    "survey.nathaw,\n",
    "survey.amerind,\n",
    "survey.multrace,\n",
    "survey.unkrace,\n",
    "survey.male,\n",
    "survey.female,\n",
    "survey.carpat,\n",
    "survey.footpat,\n",
    "survey.cptrnnew,\n",
    "survey.cptrninserv,\n",
    "survey.cpmission,\n",
    "survey.cpplan,\n",
    "survey.cpnone,\n",
    "survey.lessthanplcy,\n",
    "survey.racialprplcy,\n",
    "ratio.year,ratio.searches_over_stops_black_over_white AS \"rpsi\"\n",
    "FROM searches_over_stops ratio \n",
    "JOIN nc_police_survey survey ON survey.agency_id = ratio.agency_id;\n",
    "\"\"\"\n",
    "joined = pd.read_sql_query(sql_query,con)\n",
    "joined = joined.fillna(-1) #remaining missing are categorical. set as -1 if missing since different from others\n",
    "joined.to_sql('combined_rpsi_searches_over_stops_black_over_white', engine, if_exists='replace')"
   ]
  },
  {
   "cell_type": "code",
   "execution_count": null,
   "metadata": {
    "collapsed": false
   },
   "outputs": [],
   "source": [
    "joined[joined['year']==2006] # matches year in survey"
   ]
  },
  {
   "cell_type": "code",
   "execution_count": null,
   "metadata": {
    "collapsed": true
   },
   "outputs": [],
   "source": []
  }
 ],
 "metadata": {
  "kernelspec": {
   "display_name": "Python 2",
   "language": "python",
   "name": "python2"
  },
  "language_info": {
   "codemirror_mode": {
    "name": "ipython",
    "version": 2
   },
   "file_extension": ".py",
   "mimetype": "text/x-python",
   "name": "python",
   "nbconvert_exporter": "python",
   "pygments_lexer": "ipython2",
   "version": "2.7.11"
  }
 },
 "nbformat": 4,
 "nbformat_minor": 0
}
