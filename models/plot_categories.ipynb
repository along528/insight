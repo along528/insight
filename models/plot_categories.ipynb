{
 "cells": [
  {
   "cell_type": "code",
   "execution_count": 2,
   "metadata": {
    "collapsed": false
   },
   "outputs": [
    {
     "name": "stdout",
     "output_type": "stream",
     "text": [
      "Populating the interactive namespace from numpy and matplotlib\n"
     ]
    },
    {
     "name": "stderr",
     "output_type": "stream",
     "text": [
      "/Users/along528/anaconda/lib/python2.7/site-packages/matplotlib/__init__.py:872: UserWarning: axes.color_cycle is deprecated and replaced with axes.prop_cycle; please use the latter.\n",
      "  warnings.warn(self.msg_depr % (key, alt_key))\n"
     ]
    }
   ],
   "source": [
    "## Python packages - you may have to pip install sqlalchemy, sqlalchemy_utils, and psycopg2.\n",
    "from sqlalchemy import create_engine\n",
    "from sqlalchemy_utils import database_exists, create_database\n",
    "import psycopg2\n",
    "import pandas as pd\n",
    "import numpy as np\n",
    "import math\n",
    "# The usual preamble\n",
    "%matplotlib inline\n",
    "%pylab inline\n",
    "import matplotlib.pyplot as plt\n",
    "plt.rcParams['axes.color_cycle'] = ['r', 'g', 'b', 'c']\n",
    "plt.rcParams['lines.color'] = 'r'\n",
    "plt.rcParams['figure.figsize'] = (15, 5)\n"
   ]
  },
  {
   "cell_type": "code",
   "execution_count": 3,
   "metadata": {
    "collapsed": true
   },
   "outputs": [],
   "source": [
    "dbname = 'combined_profiling'\n",
    "username = 'along528'\n",
    "pswd = 'password'\n",
    "con = psycopg2.connect(database = dbname, user = username, host='localhost', password=pswd)"
   ]
  },
  {
   "cell_type": "code",
   "execution_count": 4,
   "metadata": {
    "collapsed": false
   },
   "outputs": [],
   "source": [
    "import process\n",
    "from modeling import categorize\n",
    "data= process.add_features(process.get_data())\n"
   ]
  },
  {
   "cell_type": "code",
   "execution_count": 10,
   "metadata": {
    "collapsed": false
   },
   "outputs": [
    {
     "data": {
      "image/png": "[encoded data removed]",
      "text/plain": [
       "<matplotlib.figure.Figure at 0x107ef5e90>"
      ]
     },
     "metadata": {},
     "output_type": "display_data"
    }
   ],
   "source": [
    "split_rpsi = []\n",
    "handles = []\n",
    "labels={}\n",
    "labels[0]='Less Susceptible'\n",
    "labels[1]='More Susceptible'\n",
    "labels[2]='Very Susceptible'\n",
    "colors={}\n",
    "colors[0]='#007dff'\n",
    "colors[1]='#ffffff'\n",
    "colors[2]='#dd3439'\n",
    "for category in sorted(data['rpsi'].map(categorize).unique().tolist()):\n",
    "    tmpdata = data[data['rpsi'].map(categorize)==category]\n",
    "    handle = plt.hist(tmpdata['rpsi'].tolist(),bins=60,range=[0,12],label=labels[category],color=colors[category])\n",
    "    handles.append(labels[category])\n",
    "plt.ylim([0,30])\n",
    "plt.locator_params(nbins=20)\n",
    "#plt.legend(handles)\n",
    "axis = plt.axes()\n",
    "\n",
    "axis.tick_params(axis='x', colors='white')\n",
    "axis.tick_params(axis='y', colors='white')\n",
    "spines = ['bottom','top','left','right']\n",
    "for spine in spines:\n",
    "    axis.spines[spine].set_color('white')\n",
    "\n",
    "plt.xlabel('Black / White Search Rate Disparity',color='white')\n",
    "plt.ylabel('Number of Agencies',color='white')\n",
    "plt.savefig('images/category_hist.png',transparent=True)\n"
   ]
  },
  {
   "cell_type": "code",
   "execution_count": null,
   "metadata": {
    "collapsed": true
   },
   "outputs": [],
   "source": []
  }
 ],
 "metadata": {
  "kernelspec": {
   "display_name": "Python 2",
   "language": "python",
   "name": "python2"
  },
  "language_info": {
   "codemirror_mode": {
    "name": "ipython",
    "version": 2
   },
   "file_extension": ".py",
   "mimetype": "text/x-python",
   "name": "python",
   "nbconvert_exporter": "python",
   "pygments_lexer": "ipython2",
   "version": "2.7.11"
  }
 },
 "nbformat": 4,
 "nbformat_minor": 0
}
